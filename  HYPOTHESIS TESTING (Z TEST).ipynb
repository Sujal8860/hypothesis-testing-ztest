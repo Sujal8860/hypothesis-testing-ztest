{
 "cells": [
  {
   "cell_type": "markdown",
   "id": "9361fa10-4ccb-42a1-9648-a89c540d9b92",
   "metadata": {},
   "source": [
    "# HYPOTHESIS TESTING (Z TEST)"
   ]
  },
  {
   "cell_type": "markdown",
   "id": "20e06f96-c399-4694-9ff9-d5c145e8b57c",
   "metadata": {},
   "source": [
    "## Example1: A teacher claims that the mean score of students in his class is geater than 82 with a standard deviation of 20. if a sample of 81 students was selected with a mean score of 90"
   ]
  },
  {
   "cell_type": "markdown",
   "id": "e2dfb053-227c-4342-94e3-be65fe4e7cb7",
   "metadata": {},
   "source": [
    "### Null Hypothesis : The mean score of students in his class is less than or equal to 82\n",
    "### Alternative hypothesis : the mean score of student in his class is greater than 82"
   ]
  },
  {
   "cell_type": "markdown",
   "id": "a72ca744-cce4-4b7d-8c6b-0459c4c09d98",
   "metadata": {},
   "source": [
    "### given that:\n",
    "####  population mean = 82\n",
    "####  standard deviation = 20\n",
    "####  sample size = 81\n",
    "####  sample mean = 90\n",
    "#### significance level = 0.05"
   ]
  },
  {
   "cell_type": "code",
   "execution_count": 39,
   "id": "e7b3dafd-d935-4d3c-950b-0544319ceef3",
   "metadata": {},
   "outputs": [],
   "source": [
    "#  Import Required Libraries\n",
    "import scipy.stats as st     #for Z-score and p-value calculations.\n",
    "import math             #for square root calculation."
   ]
  },
  {
   "cell_type": "code",
   "execution_count": 40,
   "id": "d9707ab2-1afd-49b4-86f0-8713b0f11711",
   "metadata": {},
   "outputs": [
    {
     "name": "stdout",
     "output_type": "stream",
     "text": [
      "z score is:3.60\n"
     ]
    }
   ],
   "source": [
    "#given data\n",
    "mu = 82\n",
    "sigma = 20\n",
    "n = 81\n",
    "x_bar = 90\n",
    "alpha = 0.05\n",
    "#compute z score with the help of formula\n",
    "z_score = (x_bar - mu) / (sigma / math.sqrt(n))\n",
    "print(f'z score is:{z_score:.2f}')"
   ]
  },
  {
   "cell_type": "markdown",
   "id": "9a705f17-7c9e-4a63-9d28-44ad4130d12e",
   "metadata": {},
   "source": [
    "### For a one-tailed test at α=0.05, we find the critical value:"
   ]
  },
  {
   "cell_type": "code",
   "execution_count": 42,
   "id": "6f4e9153-f7c7-44af-a203-7707b9451d60",
   "metadata": {},
   "outputs": [
    {
     "name": "stdout",
     "output_type": "stream",
     "text": [
      "Critical Z-value: 1.64\n"
     ]
    }
   ],
   "source": [
    "# Get critical value for 95% confidence (one-tailed test)\n",
    "z_critical = st.norm.ppf(1 - alpha)\n",
    "\n",
    "print(f\"Critical Z-value: {z_critical:.2f}\")\n"
   ]
  },
  {
   "cell_type": "markdown",
   "id": "3d7d5e86-8698-4046-86c4-bcb2508c8385",
   "metadata": {},
   "source": [
    "### Decision based on critical value and p-value\n"
   ]
  },
  {
   "cell_type": "code",
   "execution_count": 44,
   "id": "ad0db9a8-b3ea-41c6-b930-1367acaa26f1",
   "metadata": {},
   "outputs": [
    {
     "name": "stdout",
     "output_type": "stream",
     "text": [
      "Reject H0: The mean score is significantly greater than 82.\n",
      "Since p-value < alpha, we reject H0.\n"
     ]
    }
   ],
   "source": [
    "if z_score > z_critical:\n",
    "    print(\"Reject H0: The mean score is significantly greater than 82.\")\n",
    "else:\n",
    "    print(\"Fail to reject H0: No strong evidence that the mean score is greater than 82.\")\n",
    "    # Decision based on p-value\n",
    "if p_value < alpha:\n",
    "    print(\"Since p-value < alpha, we reject H0.\")\n",
    "else:\n",
    "    print(\"Since p-value >= alpha, we fail to reject H0.\")"
   ]
  },
  {
   "cell_type": "code",
   "execution_count": 45,
   "id": "70cbd793-7c5c-482e-9c82-c088aaaf9ccb",
   "metadata": {},
   "outputs": [
    {
     "name": "stdout",
     "output_type": "stream",
     "text": [
      "P-value: 0.0002\n"
     ]
    }
   ],
   "source": [
    "# Compute p-value for one-tailed test (right tail)\n",
    "p_value = 1 - st.norm.cdf(z_score) #The p-value tells us the probability of getting a test statistic as extreme as the one observed, assuming \n",
    "                                   #𝐻0 is true.\n",
    "\n",
    "print(f\"P-value: {p_value:.4f}\")\n"
   ]
  },
  {
   "cell_type": "markdown",
   "id": "83f461ea-9d2b-4582-8682-df4a27d28d27",
   "metadata": {},
   "source": [
    "## Example 2: imagine you work for an e-commerce company, and your team is responsible for analyzing customer purchase data. you want to determine whether a new website design has a led to a significant increase in the average purchase amount compared to the old design\n"
   ]
  },
  {
   "cell_type": "markdown",
   "id": "e9635ff4-c249-4e2f-9047-c493517cb3da",
   "metadata": {},
   "source": [
    "### You have collected data from a random sasmple of 30 customers who made purchase on the old website design and 30 customer who made purchases on the new website design you have the sample means, sample standard deviations, and sample sizes of both groups"
   ]
  },
  {
   "cell_type": "markdown",
   "id": "7fb2d5e4-50d2-4ea3-be5a-8839b1b21967",
   "metadata": {},
   "source": [
    "### Null hypothesis :  The new website design has not led to an increase in the average purchase amount (it could be the same or even worse).\n",
    "### Alternative A new website design has led to a significant increase in the average purchase amount. (Improvement)"
   ]
  },
  {
   "cell_type": "code",
   "execution_count": 49,
   "id": "b65e6cb4-e211-4ba9-87ca-32e9b0fea4aa",
   "metadata": {},
   "outputs": [
    {
     "ename": "NameError",
     "evalue": "name 'new_design_data' is not defined",
     "output_type": "error",
     "traceback": [
      "\u001b[1;31m---------------------------------------------------------------------------\u001b[0m",
      "\u001b[1;31mNameError\u001b[0m                                 Traceback (most recent call last)",
      "Cell \u001b[1;32mIn[49], line 2\u001b[0m\n\u001b[0;32m      1\u001b[0m \u001b[38;5;66;03m#given data\u001b[39;00m\n\u001b[1;32m----> 2\u001b[0m n \u001b[38;5;241m=\u001b[39m \u001b[38;5;28mlen\u001b[39m(new_design_data)\n\u001b[0;32m      3\u001b[0m alpha \u001b[38;5;241m=\u001b[39m \u001b[38;5;241m0.05\u001b[39m\n\u001b[0;32m      4\u001b[0m std \u001b[38;5;241m=\u001b[39m \u001b[38;5;241m2.5\u001b[39m\n",
      "\u001b[1;31mNameError\u001b[0m: name 'new_design_data' is not defined"
     ]
    }
   ],
   "source": [
    "#given data\n",
    "n = len(new_design_data)\n",
    "alpha = 0.05\n",
    "std = 2.5\n"
   ]
  },
  {
   "cell_type": "code",
   "execution_count": null,
   "id": "046dac90-d04d-40ab-ab04-a30ef07e9095",
   "metadata": {},
   "outputs": [],
   "source": [
    "#  Import Required Libraries\n",
    "import scipy.stats as st     #for Z-score and p-value calculations.\n",
    "import math             #for square root calculation.\n",
    "import numpy as np\n",
    "old_design_data = np.array([45.2, 42.8, 38.9, 43.5, 41.0, 44.6, 40.5, 42.7, 39.8, 41.4, \n",
    "                   44.3, 39.7, 42.1, 40.6, 43.0, 42.2, 41.5, 39.6, 44.0, 43.1, \n",
    "                   38.7, 43.9, 42.0, 41.8, 40.2, 39.9, 41.7, 42.4, 43.2, 40.8])\n",
    "\n",
    "new_design_data = np.array([48.5, 49.1, 50.2, 47.8, 48.7, 49.9, 48.0, 50.5, 49.8, 49.6, \n",
    "                   48.2, 48.9, 49.7, 50.3, 49.4, 50.1, 48.6, 48.3, 49.0, 50.0, \n",
    "                   48.4, 49.3, 49.2, 48.7, 49.1, 50.6, 48.8, 49.9, 50.2, 48.5])\n"
   ]
  },
  {
   "cell_type": "code",
   "execution_count": null,
   "id": "7eab0467-b00f-49ac-b61a-3762b38ed0f9",
   "metadata": {},
   "outputs": [],
   "source": [
    "#compute the z score\n",
    "z= z = (np.mean(new_design_data) - np.mean(old_design_data)) / (std / math.sqrt(n))\n",
    "print(f'z score is: {z:.2f}')"
   ]
  },
  {
   "cell_type": "code",
   "execution_count": null,
   "id": "8db16ae6-7131-495f-ad83-dfd3fa49b889",
   "metadata": {},
   "outputs": [],
   "source": [
    "# find the critical value\n",
    "z_table = st.norm.ppf(1-alpha)\n",
    "print(f'critical z_value is: {z_table:.2f}')"
   ]
  },
  {
   "cell_type": "code",
   "execution_count": null,
   "id": "6cafdd0e-2f6a-47e1-aa41-7bc95a5e901b",
   "metadata": {},
   "outputs": [],
   "source": [
    "# decision based on critical value\n",
    "if z > z_table:\n",
    "    print(\"Reject null hypothesis: The new design is significantly different.\")\n",
    "else:\n",
    "    print(\"Fail to reject null hypothesis: No significant difference detected.\")\n"
   ]
  },
  {
   "cell_type": "markdown",
   "id": "e9d39cb9-1045-4809-9200-e6a2cde9ed28",
   "metadata": {},
   "source": [
    "### Example 3: A company wants to determine whether reducing the delivery time for its products increases customer satisfaction.\n",
    "\n",
    "### They currently have an average customer satisfaction rating of 4.2 (out of 5) with a standard deviation of 0.5.\n",
    "\n",
    "### They introduce a faster delivery system and collect 30 customer reviews after implementing it.\n",
    "\n",
    "### The sample mean satisfaction rating for the new system is 4.4.\n",
    "\n",
    "### |You need to test at a 5% significance level (α = 0.05) whether the new delivery system significantly increases customer satisfaction using a one-tailed test."
   ]
  },
  {
   "cell_type": "code",
   "execution_count": null,
   "id": "d5da3a9b-965b-4cb5-928a-a02997479561",
   "metadata": {},
   "outputs": [],
   "source": [
    "#Given data\n",
    "std = 0.5\n",
    "n = 30\n",
    "x_bar = 4.4\n",
    "alpha = 0.05\n",
    "mu = 4.2"
   ]
  },
  {
   "cell_type": "markdown",
   "id": "80657eda-1a28-4606-b10a-d38535cde099",
   "metadata": {},
   "source": [
    "### Null hypothesis: reducing the delivery time for its products didn't increase customer satisfaction.\n",
    "### Alternative hypothesis: reducing the delivery time for its products increases customer satisfaction."
   ]
  },
  {
   "cell_type": "code",
   "execution_count": null,
   "id": "ee5712b1-5387-45ee-90d0-8798df938f8a",
   "metadata": {},
   "outputs": [],
   "source": [
    "#compute z score\n",
    "z = (x_bar - mu)/(std/math.sqrt(n))\n",
    "print(f'z score is : {z:.2f}')"
   ]
  },
  {
   "cell_type": "code",
   "execution_count": null,
   "id": "d3f2b335-acfb-45c0-961f-fe8c9f82c483",
   "metadata": {},
   "outputs": [],
   "source": [
    "# finding critical value\n",
    "z_table = st.norm.ppf(1-alpha)\n",
    "print(f'z critical value is: {z_table:.2f}')"
   ]
  },
  {
   "cell_type": "code",
   "execution_count": null,
   "id": "9c3afd12-df00-448d-a5ce-0c30a2a80f9d",
   "metadata": {},
   "outputs": [],
   "source": [
    "#decision based on critical value\n",
    "if z>z_table:\n",
    "    print('null hypothesis is rejected')\n",
    "else:\n",
    "    print('fail to reject null hypothesis')"
   ]
  },
  {
   "cell_type": "code",
   "execution_count": null,
   "id": "74439151-87c5-4703-afe2-6e0b522fd4ad",
   "metadata": {},
   "outputs": [],
   "source": [
    "#re check by p-value\n",
    "p_value = 1-st.norm.cdf(z)\n",
    "print(p_value)"
   ]
  },
  {
   "cell_type": "code",
   "execution_count": null,
   "id": "d24e5378-46ab-47fa-87d1-ce35fba43bbf",
   "metadata": {},
   "outputs": [],
   "source": [
    "if p_value<alpha:\n",
    "    print('reject h0')\n",
    "else:\n",
    "    print('accept h0')"
   ]
  },
  {
   "cell_type": "code",
   "execution_count": null,
   "id": "abbfdc26-a48f-44df-b675-35747b91bbb2",
   "metadata": {},
   "outputs": [],
   "source": []
  }
 ],
 "metadata": {
  "kernelspec": {
   "display_name": "Python 3 (ipykernel)",
   "language": "python",
   "name": "python3"
  },
  "language_info": {
   "codemirror_mode": {
    "name": "ipython",
    "version": 3
   },
   "file_extension": ".py",
   "mimetype": "text/x-python",
   "name": "python",
   "nbconvert_exporter": "python",
   "pygments_lexer": "ipython3",
   "version": "3.12.7"
  }
 },
 "nbformat": 4,
 "nbformat_minor": 5
}
